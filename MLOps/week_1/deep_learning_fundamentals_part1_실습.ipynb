{
  "nbformat": 4,
  "nbformat_minor": 0,
  "metadata": {
    "colab": {
      "name": "deep_learning_fundamentals_part1_실습.ipynb",
      "provenance": [],
      "collapsed_sections": [],
      "authorship_tag": "ABX9TyNCdmMDHpOO0F3tKth5dzPx",
      "include_colab_link": true
    },
    "kernelspec": {
      "name": "python3",
      "display_name": "Python 3"
    },
    "language_info": {
      "name": "python"
    },
    "accelerator": "GPU"
  },
  "cells": [
    {
      "cell_type": "markdown",
      "metadata": {
        "id": "view-in-github",
        "colab_type": "text"
      },
      "source": [
        "<a href=\"https://colab.research.google.com/github/hyeon9698/2019_undergraduate_student_autonomous_car_sensor/blob/master/MLOps/week_1/deep_learning_fundamentals_part1_%EC%8B%A4%EC%8A%B5.ipynb\" target=\"_parent\"><img src=\"https://colab.research.google.com/assets/colab-badge.svg\" alt=\"Open In Colab\"/></a>"
      ]
    },
    {
      "cell_type": "code",
      "metadata": {
        "colab": {
          "base_uri": "https://localhost:8080/"
        },
        "id": "xrqbAtQvQJ9j",
        "outputId": "f6b199f3-d0ff-44d9-84e0-50d20b67d3aa"
      },
      "source": [
        "!python --version"
      ],
      "execution_count": 1,
      "outputs": [
        {
          "output_type": "stream",
          "text": [
            "Python 3.7.10\n"
          ],
          "name": "stdout"
        }
      ]
    },
    {
      "cell_type": "code",
      "metadata": {
        "colab": {
          "base_uri": "https://localhost:8080/"
        },
        "id": "lPnUX34QQQHN",
        "outputId": "766c7b0e-6908-41f0-e40c-fbb1429a2dc8"
      },
      "source": [
        "!pip list | grep tensor"
      ],
      "execution_count": 3,
      "outputs": [
        {
          "output_type": "stream",
          "text": [
            "tensorboard                   2.4.1         \n",
            "tensorboard-plugin-wit        1.8.0         \n",
            "tensorflow                    2.4.1         \n",
            "tensorflow-datasets           4.0.1         \n",
            "tensorflow-estimator          2.4.0         \n",
            "tensorflow-gcs-config         2.4.0         \n",
            "tensorflow-hub                0.11.0        \n",
            "tensorflow-metadata           0.28.0        \n",
            "tensorflow-probability        0.12.1        \n"
          ],
          "name": "stdout"
        }
      ]
    },
    {
      "cell_type": "code",
      "metadata": {
        "colab": {
          "base_uri": "https://localhost:8080/"
        },
        "id": "cP17UfTVQQMV",
        "outputId": "1cf4d9ba-0a97-40b6-c88a-9b4ff0bbdc8f"
      },
      "source": [
        "!pip list | grep torch"
      ],
      "execution_count": 4,
      "outputs": [
        {
          "output_type": "stream",
          "text": [
            "torch                         1.8.0+cu101   \n",
            "torchsummary                  1.5.1         \n",
            "torchtext                     0.9.0         \n",
            "torchvision                   0.9.0+cu101   \n"
          ],
          "name": "stdout"
        }
      ]
    },
    {
      "cell_type": "code",
      "metadata": {
        "colab": {
          "base_uri": "https://localhost:8080/"
        },
        "id": "eiCD_rjZQQPf",
        "outputId": "9f0ba11c-d477-4c97-f59c-3fd8153b4119"
      },
      "source": [
        "!nvidia-smi"
      ],
      "execution_count": 5,
      "outputs": [
        {
          "output_type": "stream",
          "text": [
            "Sun Mar 28 14:35:37 2021       \n",
            "+-----------------------------------------------------------------------------+\n",
            "| NVIDIA-SMI 460.56       Driver Version: 460.32.03    CUDA Version: 11.2     |\n",
            "|-------------------------------+----------------------+----------------------+\n",
            "| GPU  Name        Persistence-M| Bus-Id        Disp.A | Volatile Uncorr. ECC |\n",
            "| Fan  Temp  Perf  Pwr:Usage/Cap|         Memory-Usage | GPU-Util  Compute M. |\n",
            "|                               |                      |               MIG M. |\n",
            "|===============================+======================+======================|\n",
            "|   0  Tesla K80           Off  | 00000000:00:04.0 Off |                    0 |\n",
            "| N/A   72C    P8    32W / 149W |      0MiB / 11441MiB |      0%      Default |\n",
            "|                               |                      |                  N/A |\n",
            "+-------------------------------+----------------------+----------------------+\n",
            "                                                                               \n",
            "+-----------------------------------------------------------------------------+\n",
            "| Processes:                                                                  |\n",
            "|  GPU   GI   CI        PID   Type   Process name                  GPU Memory |\n",
            "|        ID   ID                                                   Usage      |\n",
            "|=============================================================================|\n",
            "|  No running processes found                                                 |\n",
            "+-----------------------------------------------------------------------------+\n"
          ],
          "name": "stdout"
        }
      ]
    },
    {
      "cell_type": "code",
      "metadata": {
        "colab": {
          "base_uri": "https://localhost:8080/"
        },
        "id": "xcJUrKOHQQSP",
        "outputId": "17d8920a-24a4-457a-b8a7-a25efb3df561"
      },
      "source": [
        "import numpy as np\n",
        "X = np.zeros((3,2))\n",
        "X"
      ],
      "execution_count": 6,
      "outputs": [
        {
          "output_type": "execute_result",
          "data": {
            "text/plain": [
              "array([[0., 0.],\n",
              "       [0., 0.],\n",
              "       [0., 0.]])"
            ]
          },
          "metadata": {
            "tags": []
          },
          "execution_count": 6
        }
      ]
    },
    {
      "cell_type": "code",
      "metadata": {
        "colab": {
          "base_uri": "https://localhost:8080/"
        },
        "id": "NWghvyazQQUm",
        "outputId": "064a42f6-77d9-4ac9-fa50-5958b62e6d22"
      },
      "source": [
        "X.shape, X.dtype"
      ],
      "execution_count": 8,
      "outputs": [
        {
          "output_type": "execute_result",
          "data": {
            "text/plain": [
              "((3, 2), dtype('float64'))"
            ]
          },
          "metadata": {
            "tags": []
          },
          "execution_count": 8
        }
      ]
    },
    {
      "cell_type": "code",
      "metadata": {
        "colab": {
          "base_uri": "https://localhost:8080/"
        },
        "id": "SwJAN9mqQQXv",
        "outputId": "9ecf83f0-38b2-4537-d227-204e0758e669"
      },
      "source": [
        "X[0, :] = 1\n",
        "X"
      ],
      "execution_count": 9,
      "outputs": [
        {
          "output_type": "execute_result",
          "data": {
            "text/plain": [
              "array([[1., 1.],\n",
              "       [0., 0.],\n",
              "       [0., 0.]])"
            ]
          },
          "metadata": {
            "tags": []
          },
          "execution_count": 9
        }
      ]
    },
    {
      "cell_type": "code",
      "metadata": {
        "colab": {
          "base_uri": "https://localhost:8080/"
        },
        "id": "a8yEF4D7QQas",
        "outputId": "075ec21d-e11d-4d27-adea-7419edeb5b25"
      },
      "source": [
        "X[:,0] = 5\n",
        "X"
      ],
      "execution_count": 10,
      "outputs": [
        {
          "output_type": "execute_result",
          "data": {
            "text/plain": [
              "array([[5., 1.],\n",
              "       [5., 0.],\n",
              "       [5., 0.]])"
            ]
          },
          "metadata": {
            "tags": []
          },
          "execution_count": 10
        }
      ]
    },
    {
      "cell_type": "code",
      "metadata": {
        "colab": {
          "base_uri": "https://localhost:8080/"
        },
        "id": "J_RU0Ep7QQdr",
        "outputId": "67ac90db-ae73-4542-d137-bc10be07d48e"
      },
      "source": [
        "X = np.array([\n",
        "    [1,2],\n",
        "    [3,4],\n",
        "    [5,6]\n",
        "])\n",
        "X"
      ],
      "execution_count": 11,
      "outputs": [
        {
          "output_type": "execute_result",
          "data": {
            "text/plain": [
              "array([[1, 2],\n",
              "       [3, 4],\n",
              "       [5, 6]])"
            ]
          },
          "metadata": {
            "tags": []
          },
          "execution_count": 11
        }
      ]
    },
    {
      "cell_type": "code",
      "metadata": {
        "colab": {
          "base_uri": "https://localhost:8080/"
        },
        "id": "S1fK3eCjQQga",
        "outputId": "00e3f250-a330-4d59-9205-05c0b485dfae"
      },
      "source": [
        "x = np.array([10, 20])\n",
        "print(X.shape, x.shape)\n",
        "X+x"
      ],
      "execution_count": 12,
      "outputs": [
        {
          "output_type": "stream",
          "text": [
            "(3, 2) (2,)\n"
          ],
          "name": "stdout"
        },
        {
          "output_type": "execute_result",
          "data": {
            "text/plain": [
              "array([[11, 22],\n",
              "       [13, 24],\n",
              "       [15, 26]])"
            ]
          },
          "metadata": {
            "tags": []
          },
          "execution_count": 12
        }
      ]
    },
    {
      "cell_type": "code",
      "metadata": {
        "colab": {
          "base_uri": "https://localhost:8080/"
        },
        "id": "wkqO5w5mQQpR",
        "outputId": "f2146ef3-1222-42b0-898b-ec7397b2a2c5"
      },
      "source": [
        "x.shape"
      ],
      "execution_count": 14,
      "outputs": [
        {
          "output_type": "execute_result",
          "data": {
            "text/plain": [
              "(2,)"
            ]
          },
          "metadata": {
            "tags": []
          },
          "execution_count": 14
        }
      ]
    },
    {
      "cell_type": "code",
      "metadata": {
        "colab": {
          "base_uri": "https://localhost:8080/"
        },
        "id": "cHeYCODRQQvL",
        "outputId": "224dbc72-2315-4ee7-f125-5952c8594095"
      },
      "source": [
        "X*x"
      ],
      "execution_count": 15,
      "outputs": [
        {
          "output_type": "execute_result",
          "data": {
            "text/plain": [
              "array([[ 10,  40],\n",
              "       [ 30,  80],\n",
              "       [ 50, 120]])"
            ]
          },
          "metadata": {
            "tags": []
          },
          "execution_count": 15
        }
      ]
    },
    {
      "cell_type": "code",
      "metadata": {
        "colab": {
          "base_uri": "https://localhost:8080/"
        },
        "id": "2BOZS7C-QQ7L",
        "outputId": "f992413f-9cee-40dd-e0c6-3e7921c59ded"
      },
      "source": [
        "x = np.array([[10, 20],]).T\n",
        "print(X)\n",
        "print(x)"
      ],
      "execution_count": 23,
      "outputs": [
        {
          "output_type": "stream",
          "text": [
            "[[1 2]\n",
            " [3 4]\n",
            " [5 6]]\n",
            "[[10]\n",
            " [20]]\n"
          ],
          "name": "stdout"
        }
      ]
    },
    {
      "cell_type": "code",
      "metadata": {
        "colab": {
          "base_uri": "https://localhost:8080/"
        },
        "id": "tT8L-CquQQ-I",
        "outputId": "76c5338c-a23a-4a0c-d4d9-50c739c5dce2"
      },
      "source": [
        "X @ x"
      ],
      "execution_count": 24,
      "outputs": [
        {
          "output_type": "execute_result",
          "data": {
            "text/plain": [
              "array([[ 50],\n",
              "       [110],\n",
              "       [170]])"
            ]
          },
          "metadata": {
            "tags": []
          },
          "execution_count": 24
        }
      ]
    },
    {
      "cell_type": "markdown",
      "metadata": {
        "id": "gLfCGSDLQZZx"
      },
      "source": [
        "Indexing"
      ]
    },
    {
      "cell_type": "code",
      "metadata": {
        "colab": {
          "base_uri": "https://localhost:8080/"
        },
        "id": "DyKCuEY6ViDh",
        "outputId": "f7d443d0-efd3-4b44-8be6-703ac0e0abfc"
      },
      "source": [
        "X = np.random.rand(3, 2)\n",
        "X"
      ],
      "execution_count": 26,
      "outputs": [
        {
          "output_type": "execute_result",
          "data": {
            "text/plain": [
              "array([[0.6012342 , 0.68027734],\n",
              "       [0.64394184, 0.71873203],\n",
              "       [0.95469188, 0.08269085]])"
            ]
          },
          "metadata": {
            "tags": []
          },
          "execution_count": 26
        }
      ]
    },
    {
      "cell_type": "code",
      "metadata": {
        "colab": {
          "base_uri": "https://localhost:8080/"
        },
        "id": "w6V8adquVqMo",
        "outputId": "82faa597-9dfb-4da8-8afe-14fd946a886f"
      },
      "source": [
        "X[X>0.5] = 55\n",
        "X"
      ],
      "execution_count": 29,
      "outputs": [
        {
          "output_type": "execute_result",
          "data": {
            "text/plain": [
              "array([[55.        , 55.        ],\n",
              "       [55.        , 55.        ],\n",
              "       [55.        ,  0.08269085]])"
            ]
          },
          "metadata": {
            "tags": []
          },
          "execution_count": 29
        }
      ]
    },
    {
      "cell_type": "code",
      "metadata": {
        "colab": {
          "base_uri": "https://localhost:8080/",
          "height": 291
        },
        "id": "wEcKFQwhV4zg",
        "outputId": "edd7ebc1-0a3f-4e30-acf3-20d71ca6c73f"
      },
      "source": [
        "import matplotlib.pyplot as plt\n",
        "plt.set_cmap('gray')\n",
        "X = np.random.rand(100,100)\n",
        "plt.matshow(X)\n",
        "plt.colorbar()"
      ],
      "execution_count": 32,
      "outputs": [
        {
          "output_type": "execute_result",
          "data": {
            "text/plain": [
              "<matplotlib.colorbar.Colorbar at 0x7fde80300e90>"
            ]
          },
          "metadata": {
            "tags": []
          },
          "execution_count": 32
        },
        {
          "output_type": "display_data",
          "data": {
            "text/plain": [
              "<Figure size 432x288 with 0 Axes>"
            ]
          },
          "metadata": {
            "tags": []
          }
        },
        {
          "output_type": "display_data",
          "data": {
            "image/png": "[encoded data removed]",
            "text/plain": [
              "<Figure size 288x288 with 2 Axes>"
            ]
          },
          "metadata": {
            "tags": [],
            "needs_background": "light"
          }
        }
      ]
    },
    {
      "cell_type": "code",
      "metadata": {
        "colab": {
          "base_uri": "https://localhost:8080/",
          "height": 284
        },
        "id": "8MdXo-bfV49O",
        "outputId": "c24baab5-eb95-4832-e466-31617e1b061f"
      },
      "source": [
        "x = np.linspace(0,100)\n",
        "y = x*5 + 10\n",
        "plt.plot(x, y, 'x-')"
      ],
      "execution_count": 35,
      "outputs": [
        {
          "output_type": "execute_result",
          "data": {
            "text/plain": [
              "[<matplotlib.lines.Line2D at 0x7fde80233f90>]"
            ]
          },
          "metadata": {
            "tags": []
          },
          "execution_count": 35
        },
        {
          "output_type": "display_data",
          "data": {
            "image/png": "[encoded data removed]",
            "text/plain": [
              "<Figure size 432x288 with 1 Axes>"
            ]
          },
          "metadata": {
            "tags": [],
            "needs_background": "light"
          }
        }
      ]
    },
    {
      "cell_type": "code",
      "metadata": {
        "colab": {
          "base_uri": "https://localhost:8080/",
          "height": 303
        },
        "id": "V6AoJ5LaV5Io",
        "outputId": "2d5eacf5-6c2f-4915-985b-c7e0afc244f0"
      },
      "source": [
        "n = 50\n",
        "d = 1\n",
        "x = np.random.uniform(-1, 1, (n, d))\n",
        "weights_true = np.array([[5],])\n",
        "bias_true = np.array([10])\n",
        "\n",
        "y_true = x @ weights_true + bias_true\n",
        "print(f'x: {x.shape}, weights: {weights_true.shape}, bias: {bias_true.shape}, y: {y_true.shape}')\n",
        "plt.plot(x, y_true, marker='x', label='underlying function')\n",
        "plt.legend()"
      ],
      "execution_count": 50,
      "outputs": [
        {
          "output_type": "stream",
          "text": [
            "x: (50, 1), weights: (1, 1), bias: (1,), y: (50, 1)\n"
          ],
          "name": "stdout"
        },
        {
          "output_type": "execute_result",
          "data": {
            "text/plain": [
              "<matplotlib.legend.Legend at 0x7fde7ff73490>"
            ]
          },
          "metadata": {
            "tags": []
          },
          "execution_count": 50
        },
        {
          "output_type": "display_data",
          "data": {
            "image/png": "[encoded data removed]",
            "text/plain": [
              "<Figure size 432x288 with 1 Axes>"
            ]
          },
          "metadata": {
            "tags": [],
            "needs_background": "light"
          }
        }
      ]
    },
    {
      "cell_type": "markdown",
      "metadata": {
        "id": "MlScVcBRV5O8"
      },
      "source": [
        "Basic prediction function: Linear"
      ]
    },
    {
      "cell_type": "code",
      "metadata": {
        "colab": {
          "base_uri": "https://localhost:8080/",
          "height": 284
        },
        "id": "7A866ShObIv0",
        "outputId": "2a58af93-0994-4998-e721-4c711bc89ad3"
      },
      "source": [
        "class Linear:\n",
        "    def __init__(self, num_input, num_output=1):\n",
        "        self.weights = np.random.randn(num_input, num_output) * np.sqrt(2. / num_input)\n",
        "        self.bias = np.zeros((1))\n",
        "    def __call__(self, x):\n",
        "        return x @ self.weights + self.bias\n",
        "linear = Linear(d)\n",
        "y_pred = linear(x)\n",
        "plt.plot(x, y_true, marker='x', label='underlying function')\n",
        "plt.scatter(x, y_pred, color='r', marker='.', label='our function')\n",
        "plt.legend()"
      ],
      "execution_count": 80,
      "outputs": [
        {
          "output_type": "execute_result",
          "data": {
            "text/plain": [
              "<matplotlib.legend.Legend at 0x7fde7f455f50>"
            ]
          },
          "metadata": {
            "tags": []
          },
          "execution_count": 80
        },
        {
          "output_type": "display_data",
          "data": {
            "image/png": "[encoded data removed]",
            "text/plain": [
              "<Figure size 432x288 with 1 Axes>"
            ]
          },
          "metadata": {
            "tags": [],
            "needs_background": "light"
          }
        }
      ]
    },
    {
      "cell_type": "markdown",
      "metadata": {
        "id": "6YObQCzxba7N"
      },
      "source": [
        "Basic loss function: MSE"
      ]
    },
    {
      "cell_type": "code",
      "metadata": {
        "colab": {
          "base_uri": "https://localhost:8080/"
        },
        "id": "U2zonDy9bZcm",
        "outputId": "64005259-e7cc-4556-9deb-aac21c8879f9"
      },
      "source": [
        "class MSE:\n",
        "    def __call__(self, y_pred, y_true):\n",
        "        self.y_pred = y_pred\n",
        "        self.y_ture = y_true\n",
        "        return ((y_true - y_pred) ** 2).mean()\n",
        "loss = MSE()\n",
        "print(f'Our initial loss is {loss(y_pred, y_true)}')"
      ],
      "execution_count": 81,
      "outputs": [
        {
          "output_type": "stream",
          "text": [
            "Our initial loss is 102.30742497741801\n"
          ],
          "name": "stdout"
        }
      ]
    },
    {
      "cell_type": "markdown",
      "metadata": {
        "id": "bl5tId8cfZdH"
      },
      "source": [
        "Add back propagation"
      ]
    },
    {
      "cell_type": "code",
      "metadata": {
        "id": "sz-6fovQbZ4D"
      },
      "source": [
        "class MSE:\n",
        "    def __call__(self, y_pred, y_true):\n",
        "        self.y_pred = y_pred\n",
        "        self.y_true = y_true\n",
        "        return ((y_true - y_pred) ** 2).mean()\n",
        "    def backward(self):\n",
        "        n = self.y_true.shape[0]\n",
        "        self.gradient = 2. * (self.y_pred - self.y_true) / n\n",
        "        return self.gradient\n",
        "class Linear:\n",
        "    def __init__(self, input_dim: int, num_hidden: int = 1):\n",
        "        self.weights = np.random.randn(input_dim, num_hidden) - 0.5\n",
        "        self.bias = np.random.randn(1) - 0.5\n",
        "    def __call__(self, x):\n",
        "        self.x = x\n",
        "        output = x @ self.weights + self.bias\n",
        "        # return self.x @ self.weights + self.bias\n",
        "        return output\n",
        "    # y = w*x + b\n",
        "    # dy/dx = w\n",
        "    # dy/dw = x\n",
        "    # dy/db = 1\n",
        "    def backward(self, gradient):\n",
        "        self.weights_gradient = self.x.T @ gradient\n",
        "        self.bias_gradient = gradient.sum()\n",
        "        self.x_gradient = gradient @ self.weights.T\n",
        "        return self.x_gradient\n",
        "    def update(self, lr):\n",
        "        self.weights = self.weights - lr*self.weights_gradient\n",
        "        self.bias = self.bias - lr*self.bias_gradient"
      ],
      "execution_count": 88,
      "outputs": []
    },
    {
      "cell_type": "code",
      "metadata": {
        "colab": {
          "base_uri": "https://localhost:8080/"
        },
        "id": "EqrudCFTbaGo",
        "outputId": "4799630c-ee99-4525-f82f-b753bd4a6a43"
      },
      "source": [
        "loss = MSE()\n",
        "linear = Linear(d)\n",
        "y_pred = linear(x)\n",
        "print(loss(y_pred, y_true))\n",
        "loss_gradient = loss.backward()\n",
        "linear.backward(loss_gradient)\n",
        "linear.update(0.1)\n",
        "y_pred = linear(x)\n",
        "print(loss(y_pred, y_true))"
      ],
      "execution_count": 91,
      "outputs": [
        {
          "output_type": "stream",
          "text": [
            "97.03041290813272\n",
            "63.47407948650175\n"
          ],
          "name": "stdout"
        }
      ]
    },
    {
      "cell_type": "code",
      "metadata": {
        "colab": {
          "base_uri": "https://localhost:8080/",
          "height": 508
        },
        "id": "7w3tFLZCV5Ss",
        "outputId": "1dea6b89-1f72-412c-e402-faf8cf3ffe18"
      },
      "source": [
        "plt.plot(x, y_true, marker='x', label='underlying function')\n",
        "loss = MSE()\n",
        "linear = Linear(d)\n",
        "num_epochs = 60\n",
        "lr = 0.1\n",
        "for epoch in range(num_epochs):\n",
        "    y_pred = linear(x)\n",
        "    loss_value = loss(y_pred, y_true)\n",
        "    if epoch % 5 == 0:\n",
        "        print(f'Epoch {epoch}, loss {loss_value}')\n",
        "        plt.plot(x, y_pred.squeeze(), label=f'Epoch {epoch}')\n",
        "    gradient_from_loss = loss.backward()\n",
        "    linear.backward(gradient_from_loss)\n",
        "    linear.update(lr)\n",
        "plt.legend(bbox_to_anchor=(1.04,1), loc='upper left')"
      ],
      "execution_count": 95,
      "outputs": [
        {
          "output_type": "stream",
          "text": [
            "Epoch 0, loss 112.54222120938037\n",
            "Epoch 5, loss 13.71120154236916\n",
            "Epoch 10, loss 2.2794388075947385\n",
            "Epoch 15, loss 0.6450779243571071\n",
            "Epoch 20, loss 0.267785499567497\n",
            "Epoch 25, loss 0.12719787881249406\n",
            "Epoch 30, loss 0.06247537928623837\n",
            "Epoch 35, loss 0.030916341363722205\n",
            "Epoch 40, loss 0.015324135874280604\n",
            "Epoch 45, loss 0.007598319907231293\n",
            "Epoch 50, loss 0.0037678398878659997\n",
            "Epoch 55, loss 0.001868420017307548\n"
          ],
          "name": "stdout"
        },
        {
          "output_type": "execute_result",
          "data": {
            "text/plain": [
              "<matplotlib.legend.Legend at 0x7fde7fcee910>"
            ]
          },
          "metadata": {
            "tags": []
          },
          "execution_count": 95
        },
        {
          "output_type": "display_data",
          "data": {
            "image/png": "[encoded data removed]",
            "text/plain": [
              "<Figure size 432x288 with 1 Axes>"
            ]
          },
          "metadata": {
            "tags": [],
            "needs_background": "light"
          }
        }
      ]
    },
    {
      "cell_type": "code",
      "metadata": {
        "id": "kHryRJvWV5WO"
      },
      "source": [
        " "
      ],
      "execution_count": 93,
      "outputs": []
    },
    {
      "cell_type": "code",
      "metadata": {
        "id": "lM3GqRaBV5Zk"
      },
      "source": [
        ""
      ],
      "execution_count": null,
      "outputs": []
    },
    {
      "cell_type": "code",
      "metadata": {
        "id": "cNUCD5KBV5c8"
      },
      "source": [
        ""
      ],
      "execution_count": null,
      "outputs": []
    },
    {
      "cell_type": "code",
      "metadata": {
        "id": "2fe8X7WjV5gE"
      },
      "source": [
        ""
      ],
      "execution_count": null,
      "outputs": []
    },
    {
      "cell_type": "code",
      "metadata": {
        "id": "cNDaGBGXV5jB"
      },
      "source": [
        ""
      ],
      "execution_count": null,
      "outputs": []
    },
    {
      "cell_type": "code",
      "metadata": {
        "id": "BQmEoT9OV5mK"
      },
      "source": [
        ""
      ],
      "execution_count": null,
      "outputs": []
    },
    {
      "cell_type": "code",
      "metadata": {
        "id": "17AxSeQJV5o8"
      },
      "source": [
        ""
      ],
      "execution_count": null,
      "outputs": []
    },
    {
      "cell_type": "code",
      "metadata": {
        "id": "xzlElBYUV5r5"
      },
      "source": [
        ""
      ],
      "execution_count": null,
      "outputs": []
    },
    {
      "cell_type": "code",
      "metadata": {
        "id": "FlHCMR19V5u1"
      },
      "source": [
        ""
      ],
      "execution_count": null,
      "outputs": []
    }
  ]
}