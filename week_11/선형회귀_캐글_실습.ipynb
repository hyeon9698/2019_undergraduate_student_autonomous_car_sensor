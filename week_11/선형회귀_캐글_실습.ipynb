{
  "nbformat": 4,
  "nbformat_minor": 0,
  "metadata": {
    "colab": {
      "name": "선형회귀 캐글 실습.ipynb",
      "provenance": [],
      "collapsed_sections": [],
      "authorship_tag": "ABX9TyPmChA/2l6AjhMvU4ZcyRd/",
      "include_colab_link": true
    },
    "kernelspec": {
      "name": "python3",
      "display_name": "Python 3"
    },
    "language_info": {
      "name": "python"
    },
    "accelerator": "GPU"
  },
  "cells": [
    {
      "cell_type": "markdown",
      "metadata": {
        "id": "view-in-github",
        "colab_type": "text"
      },
      "source": [
        "<a href=\"https://colab.research.google.com/github/hyeon9698/2019_undergraduate_student_autonomous_car_sensor/blob/master/week_11/%EC%84%A0%ED%98%95%ED%9A%8C%EA%B7%80_%EC%BA%90%EA%B8%80_%EC%8B%A4%EC%8A%B5.ipynb\" target=\"_parent\"><img src=\"https://colab.research.google.com/assets/colab-badge.svg\" alt=\"Open In Colab\"/></a>"
      ]
    },
    {
      "cell_type": "code",
      "metadata": {
        "colab": {
          "base_uri": "https://localhost:8080/"
        },
        "id": "KGMX6q3NOBk3",
        "outputId": "7e1b0ea6-17de-4de2-845d-96443a743f4d"
      },
      "source": [
        "!pip uninstall -y kaggle\n",
        "!pip install --upgrade pip\n",
        "!pip install kaggle==1.5.6"
      ],
      "execution_count": 2,
      "outputs": [
        {
          "output_type": "stream",
          "text": [
            "Uninstalling kaggle-1.5.6:\n",
            "  Successfully uninstalled kaggle-1.5.6\n",
            "Collecting pip\n",
            "\u001b[?25l  Downloading https://files.pythonhosted.org/packages/cd/82/04e9aaf603fdbaecb4323b9e723f13c92c245f6ab2902195c53987848c78/pip-21.1.2-py3-none-any.whl (1.5MB)\n",
            "\u001b[K     |████████████████████████████████| 1.6MB 8.4MB/s \n",
            "\u001b[?25hInstalling collected packages: pip\n",
            "  Found existing installation: pip 19.3.1\n",
            "    Uninstalling pip-19.3.1:\n",
            "      Successfully uninstalled pip-19.3.1\n",
            "Successfully installed pip-21.1.2\n",
            "Collecting kaggle==1.5.6\n",
            "  Using cached kaggle-1.5.6.tar.gz (58 kB)\n",
            "Requirement already satisfied: urllib3<1.25,>=1.21.1 in /usr/local/lib/python3.7/dist-packages (from kaggle==1.5.6) (1.24.3)\n",
            "Requirement already satisfied: six>=1.10 in /usr/local/lib/python3.7/dist-packages (from kaggle==1.5.6) (1.15.0)\n",
            "Requirement already satisfied: certifi in /usr/local/lib/python3.7/dist-packages (from kaggle==1.5.6) (2020.12.5)\n",
            "Requirement already satisfied: python-dateutil in /usr/local/lib/python3.7/dist-packages (from kaggle==1.5.6) (2.8.1)\n",
            "Requirement already satisfied: requests in /usr/local/lib/python3.7/dist-packages (from kaggle==1.5.6) (2.23.0)\n",
            "Requirement already satisfied: tqdm in /usr/local/lib/python3.7/dist-packages (from kaggle==1.5.6) (4.41.1)\n",
            "Requirement already satisfied: python-slugify in /usr/local/lib/python3.7/dist-packages (from kaggle==1.5.6) (5.0.2)\n",
            "Requirement already satisfied: text-unidecode>=1.3 in /usr/local/lib/python3.7/dist-packages (from python-slugify->kaggle==1.5.6) (1.3)\n",
            "Requirement already satisfied: idna<3,>=2.5 in /usr/local/lib/python3.7/dist-packages (from requests->kaggle==1.5.6) (2.10)\n",
            "Requirement already satisfied: chardet<4,>=3.0.2 in /usr/local/lib/python3.7/dist-packages (from requests->kaggle==1.5.6) (3.0.4)\n",
            "Building wheels for collected packages: kaggle\n",
            "  Building wheel for kaggle (setup.py) ... \u001b[?25l\u001b[?25hdone\n",
            "  Created wheel for kaggle: filename=kaggle-1.5.6-py3-none-any.whl size=72859 sha256=5924dac8f041a6b9ea0b32d45b5549ba75365f78555d5bd85679be514afa612e\n",
            "  Stored in directory: /root/.cache/pip/wheels/aa/e7/e7/eb3c3d514c33294d77ddd5a856bdd58dc9c1fabbed59a02a2b\n",
            "Successfully built kaggle\n",
            "Installing collected packages: kaggle\n",
            "Successfully installed kaggle-1.5.6\n",
            "\u001b[33mWARNING: Running pip as root will break packages and permissions. You should install packages reliably by using venv: https://pip.pypa.io/warnings/venv\u001b[0m\n"
          ],
          "name": "stdout"
        }
      ]
    },
    {
      "cell_type": "code",
      "metadata": {
        "id": "bEIC_coPOSeC"
      },
      "source": [
        "! mkdir -p ~/.kaggle\n",
        "! cp kaggle.json ~/.kaggle/\n",
        "! chmod 600 ~/.kaggle/kaggle.json"
      ],
      "execution_count": 3,
      "outputs": []
    },
    {
      "cell_type": "code",
      "metadata": {
        "colab": {
          "base_uri": "https://localhost:8080/"
        },
        "id": "isHJPIytOiq2",
        "outputId": "b535abaa-a4c0-4557-849f-1664fc10cd43"
      },
      "source": [
        "! kaggle -v"
      ],
      "execution_count": 4,
      "outputs": [
        {
          "output_type": "stream",
          "text": [
            "Kaggle API 1.5.6\n"
          ],
          "name": "stdout"
        }
      ]
    },
    {
      "cell_type": "code",
      "metadata": {
        "colab": {
          "base_uri": "https://localhost:8080/"
        },
        "id": "US5RsLzYOm3m",
        "outputId": "11ff9bce-3914-446e-e0af-b4e674c1f165"
      },
      "source": [
        "!kaggle competitions download -c regression-cabbage-price"
      ],
      "execution_count": 5,
      "outputs": [
        {
          "output_type": "stream",
          "text": [
            "Downloading regression-cabbage-price.zip to /content\n",
            "\r  0% 0.00/29.7k [00:00<?, ?B/s]\n",
            "\r100% 29.7k/29.7k [00:00<00:00, 25.3MB/s]\n"
          ],
          "name": "stdout"
        }
      ]
    },
    {
      "cell_type": "code",
      "metadata": {
        "colab": {
          "base_uri": "https://localhost:8080/"
        },
        "id": "1C3GxSXWPFg4",
        "outputId": "f869d52e-20a3-4765-afe0-cabed216fb62"
      },
      "source": [
        "!unzip regression-cabbage-price.zip"
      ],
      "execution_count": 6,
      "outputs": [
        {
          "output_type": "stream",
          "text": [
            "Archive:  regression-cabbage-price.zip\n",
            "  inflating: submit_sample.csv       \n",
            "  inflating: test_cabbage_price.csv  \n",
            "  inflating: train_cabbage_price.csv  \n"
          ],
          "name": "stdout"
        }
      ]
    },
    {
      "cell_type": "code",
      "metadata": {
        "id": "lERqqOdTPMf-"
      },
      "source": [
        "import numpy as np\n",
        "import torch\n",
        "xy_train = np.loadtxt('train_cabbage_price.csv', delimiter=',', dtype=np.float32, skiprows=1, usecols=range(1,6))\n",
        "x_data = torch.from_numpy(xy_train[:,0:-1])\n",
        "y_data = torch.from_numpy(xy_train[:,[-1]])\n",
        "xy_test = np.loadtxt('test_cabbage_price.csv', delimiter=',', dtype=np.float32, skiprows=1, usecols=range(1,5))\n",
        "test_x_data = torch.from_numpy(xy_test)"
      ],
      "execution_count": 11,
      "outputs": []
    },
    {
      "cell_type": "code",
      "metadata": {
        "colab": {
          "base_uri": "https://localhost:8080/"
        },
        "id": "egWTfoDrP873",
        "outputId": "67776575-2c4e-46b8-dcd4-85b5020d0ad2"
      },
      "source": [
        "print(x_data)\n",
        "print(y_data)\n",
        "print(test_x_data)"
      ],
      "execution_count": 12,
      "outputs": [
        {
          "output_type": "stream",
          "text": [
            "tensor([[ -4.9000, -11.0000,   0.9000,   0.0000],\n",
            "        [ -3.1000,  -5.5000,   5.5000,   0.8000],\n",
            "        [ -2.9000,  -6.9000,   1.4000,   0.0000],\n",
            "        ...,\n",
            "        [  2.9000,  -2.1000,   8.0000,   0.0000],\n",
            "        [  2.9000,  -1.6000,   7.1000,   0.6000],\n",
            "        [  2.1000,  -2.0000,   5.8000,   0.4000]])\n",
            "tensor([[2123.],\n",
            "        [2123.],\n",
            "        [2123.],\n",
            "        ...,\n",
            "        [2901.],\n",
            "        [2901.],\n",
            "        [2901.]])\n",
            "tensor([[13.5000,  8.0000, 19.2000,  2.6000],\n",
            "        [ 1.1000, -3.0000,  9.5000,  0.8000],\n",
            "        [12.0000,  5.1000, 19.6000,  0.0000],\n",
            "        [16.6000, 11.9000, 22.5000,  0.1000],\n",
            "        [22.4000, 17.8000, 27.4000,  0.5000],\n",
            "        [18.8000, 13.9000, 24.4000,  0.0000]])\n"
          ],
          "name": "stdout"
        }
      ]
    },
    {
      "cell_type": "code",
      "metadata": {
        "colab": {
          "base_uri": "https://localhost:8080/"
        },
        "id": "0Os_FmL8QOPx",
        "outputId": "5150ee6b-f6f7-4ea4-f18f-368fdcb6fa31"
      },
      "source": [
        "epochs = 10001\n",
        "lr = 0.0005\n",
        "w = torch.randn(1,4, requires_grad=True)\n",
        "b = torch.randn(1, requires_grad=True)\n",
        "\n",
        "def model (x):\n",
        "    return x @ w.t() + b\n",
        "\n",
        "def cost_fn(prediction, true):\n",
        "    diff = prediction - true\n",
        "    return torch.sum(diff * diff)/diff.numel()\n",
        "\n",
        "for epoch in range(epochs):\n",
        "    pred = model(x_data)\n",
        "    cost = cost_fn(pred, y_data)\n",
        "    cost.backward()\n",
        "    if epoch%100 == 0:\n",
        "        print(\"Epoch: {}, Cost: {}\".format(epoch, cost.item()))\n",
        "    with torch.no_grad():\n",
        "        w -= w.grad*lr\n",
        "        b -= b.grad*lr\n",
        "        w.grad.zero_()\n",
        "        b.grad.zero_()\n",
        "x_test = torch.tensor([-.7,-6.6,2.,0.1])\n",
        "y_test = model(x_test)\n",
        "print(\"Prediction : {}\".format(y_test.item()))"
      ],
      "execution_count": 27,
      "outputs": [
        {
          "output_type": "stream",
          "text": [
            "Epoch: 0, Cost: 12635817.0\n",
            "Epoch: 100, Cost: 2298501.75\n",
            "Epoch: 200, Cost: 2271830.25\n",
            "Epoch: 300, Cost: 2266016.0\n",
            "Epoch: 400, Cost: 2260465.75\n",
            "Epoch: 500, Cost: 2254997.0\n",
            "Epoch: 600, Cost: 2249607.0\n",
            "Epoch: 700, Cost: 2244294.75\n",
            "Epoch: 800, Cost: 2239058.25\n",
            "Epoch: 900, Cost: 2233896.75\n",
            "Epoch: 1000, Cost: 2228809.0\n",
            "Epoch: 1100, Cost: 2223793.25\n",
            "Epoch: 1200, Cost: 2218849.0\n",
            "Epoch: 1300, Cost: 2213975.0\n",
            "Epoch: 1400, Cost: 2209169.5\n",
            "Epoch: 1500, Cost: 2204432.0\n",
            "Epoch: 1600, Cost: 2199761.0\n",
            "Epoch: 1700, Cost: 2195155.75\n",
            "Epoch: 1800, Cost: 2190615.25\n",
            "Epoch: 1900, Cost: 2186138.0\n",
            "Epoch: 2000, Cost: 2181723.25\n",
            "Epoch: 2100, Cost: 2177370.0\n",
            "Epoch: 2200, Cost: 2173077.0\n",
            "Epoch: 2300, Cost: 2168843.5\n",
            "Epoch: 2400, Cost: 2164668.5\n",
            "Epoch: 2500, Cost: 2160551.5\n",
            "Epoch: 2600, Cost: 2156491.0\n",
            "Epoch: 2700, Cost: 2152486.25\n",
            "Epoch: 2800, Cost: 2148536.75\n",
            "Epoch: 2900, Cost: 2144641.0\n",
            "Epoch: 3000, Cost: 2140798.25\n",
            "Epoch: 3100, Cost: 2137008.0\n",
            "Epoch: 3200, Cost: 2133269.5\n",
            "Epoch: 3300, Cost: 2129581.25\n",
            "Epoch: 3400, Cost: 2125943.25\n",
            "Epoch: 3500, Cost: 2122354.0\n",
            "Epoch: 3600, Cost: 2118813.5\n",
            "Epoch: 3700, Cost: 2115320.5\n",
            "Epoch: 3800, Cost: 2111874.25\n",
            "Epoch: 3900, Cost: 2108474.75\n",
            "Epoch: 4000, Cost: 2105120.0\n",
            "Epoch: 4100, Cost: 2101810.25\n",
            "Epoch: 4200, Cost: 2098544.75\n",
            "Epoch: 4300, Cost: 2095322.375\n",
            "Epoch: 4400, Cost: 2092142.625\n",
            "Epoch: 4500, Cost: 2089004.875\n",
            "Epoch: 4600, Cost: 2085908.625\n",
            "Epoch: 4700, Cost: 2082853.375\n",
            "Epoch: 4800, Cost: 2079838.125\n",
            "Epoch: 4900, Cost: 2076862.25\n",
            "Epoch: 5000, Cost: 2073925.75\n",
            "Epoch: 5100, Cost: 2071027.375\n",
            "Epoch: 5200, Cost: 2068166.875\n",
            "Epoch: 5300, Cost: 2065343.5\n",
            "Epoch: 5400, Cost: 2062556.75\n",
            "Epoch: 5500, Cost: 2059806.125\n",
            "Epoch: 5600, Cost: 2057091.25\n",
            "Epoch: 5700, Cost: 2054411.375\n",
            "Epoch: 5800, Cost: 2051765.875\n",
            "Epoch: 5900, Cost: 2049154.5\n",
            "Epoch: 6000, Cost: 2046576.625\n",
            "Epoch: 6100, Cost: 2044031.75\n",
            "Epoch: 6200, Cost: 2041519.625\n",
            "Epoch: 6300, Cost: 2039039.25\n",
            "Epoch: 6400, Cost: 2036590.25\n",
            "Epoch: 6500, Cost: 2034173.0\n",
            "Epoch: 6600, Cost: 2031786.0\n",
            "Epoch: 6700, Cost: 2029429.375\n",
            "Epoch: 6800, Cost: 2027102.5\n",
            "Epoch: 6900, Cost: 2024805.25\n",
            "Epoch: 7000, Cost: 2022536.5\n",
            "Epoch: 7100, Cost: 2020296.25\n",
            "Epoch: 7200, Cost: 2018084.625\n",
            "Epoch: 7300, Cost: 2015900.25\n",
            "Epoch: 7400, Cost: 2013743.25\n",
            "Epoch: 7500, Cost: 2011613.125\n",
            "Epoch: 7600, Cost: 2009509.625\n",
            "Epoch: 7700, Cost: 2007432.5\n",
            "Epoch: 7800, Cost: 2005380.625\n",
            "Epoch: 7900, Cost: 2003354.375\n",
            "Epoch: 8000, Cost: 2001353.375\n",
            "Epoch: 8100, Cost: 1999376.875\n",
            "Epoch: 8200, Cost: 1997424.875\n",
            "Epoch: 8300, Cost: 1995496.75\n",
            "Epoch: 8400, Cost: 1993592.25\n",
            "Epoch: 8500, Cost: 1991711.375\n",
            "Epoch: 8600, Cost: 1989853.125\n",
            "Epoch: 8700, Cost: 1988017.875\n",
            "Epoch: 8800, Cost: 1986204.875\n",
            "Epoch: 8900, Cost: 1984414.0\n",
            "Epoch: 9000, Cost: 1982644.875\n",
            "Epoch: 9100, Cost: 1980897.5\n",
            "Epoch: 9200, Cost: 1979170.875\n",
            "Epoch: 9300, Cost: 1977465.25\n",
            "Epoch: 9400, Cost: 1975780.375\n",
            "Epoch: 9500, Cost: 1974115.375\n",
            "Epoch: 9600, Cost: 1972470.875\n",
            "Epoch: 9700, Cost: 1970845.875\n",
            "Epoch: 9800, Cost: 1969240.625\n",
            "Epoch: 9900, Cost: 1967654.375\n",
            "Epoch: 10000, Cost: 1966087.125\n",
            "Prediction : 1960.549072265625\n"
          ],
          "name": "stdout"
        }
      ]
    },
    {
      "cell_type": "code",
      "metadata": {
        "id": "CYnoAsX_RXfO"
      },
      "source": [
        "prediction = model(test_x_data)"
      ],
      "execution_count": 16,
      "outputs": []
    },
    {
      "cell_type": "code",
      "metadata": {
        "colab": {
          "base_uri": "https://localhost:8080/"
        },
        "id": "vEH4lf6_RjsR",
        "outputId": "df7f7e14-3ef6-46fd-e8e4-056de167e77d"
      },
      "source": [
        "print(test_x_data)\n",
        "print(prediction)"
      ],
      "execution_count": 17,
      "outputs": [
        {
          "output_type": "stream",
          "text": [
            "tensor([[13.5000,  8.0000, 19.2000,  2.6000],\n",
            "        [ 1.1000, -3.0000,  9.5000,  0.8000],\n",
            "        [12.0000,  5.1000, 19.6000,  0.0000],\n",
            "        [16.6000, 11.9000, 22.5000,  0.1000],\n",
            "        [22.4000, 17.8000, 27.4000,  0.5000],\n",
            "        [18.8000, 13.9000, 24.4000,  0.0000]])\n",
            "tensor([[3340.5764],\n",
            "        [3182.0393],\n",
            "        [3918.9480],\n",
            "        [3282.1575],\n",
            "        [3295.8901],\n",
            "        [3331.3252]], grad_fn=<AddBackward0>)\n"
          ],
          "name": "stdout"
        }
      ]
    },
    {
      "cell_type": "code",
      "metadata": {
        "colab": {
          "base_uri": "https://localhost:8080/",
          "height": 235
        },
        "id": "z7662-8hRmpg",
        "outputId": "3cf33fe5-9117-45cd-9fab-a9bc3d59a4a9"
      },
      "source": [
        "import pandas as pd\n",
        "submit = pd.read_csv('submit_sample.csv')\n",
        "submit"
      ],
      "execution_count": 18,
      "outputs": [
        {
          "output_type": "execute_result",
          "data": {
            "text/html": [
              "<div>\n",
              "<style scoped>\n",
              "    .dataframe tbody tr th:only-of-type {\n",
              "        vertical-align: middle;\n",
              "    }\n",
              "\n",
              "    .dataframe tbody tr th {\n",
              "        vertical-align: top;\n",
              "    }\n",
              "\n",
              "    .dataframe thead th {\n",
              "        text-align: right;\n",
              "    }\n",
              "</style>\n",
              "<table border=\"1\" class=\"dataframe\">\n",
              "  <thead>\n",
              "    <tr style=\"text-align: right;\">\n",
              "      <th></th>\n",
              "      <th>Id</th>\n",
              "      <th>Expected</th>\n",
              "    </tr>\n",
              "  </thead>\n",
              "  <tbody>\n",
              "    <tr>\n",
              "      <th>0</th>\n",
              "      <td>0</td>\n",
              "      <td>1000</td>\n",
              "    </tr>\n",
              "    <tr>\n",
              "      <th>1</th>\n",
              "      <td>1</td>\n",
              "      <td>1000</td>\n",
              "    </tr>\n",
              "    <tr>\n",
              "      <th>2</th>\n",
              "      <td>2</td>\n",
              "      <td>1000</td>\n",
              "    </tr>\n",
              "    <tr>\n",
              "      <th>3</th>\n",
              "      <td>3</td>\n",
              "      <td>1000</td>\n",
              "    </tr>\n",
              "    <tr>\n",
              "      <th>4</th>\n",
              "      <td>4</td>\n",
              "      <td>1000</td>\n",
              "    </tr>\n",
              "    <tr>\n",
              "      <th>5</th>\n",
              "      <td>5</td>\n",
              "      <td>1000</td>\n",
              "    </tr>\n",
              "  </tbody>\n",
              "</table>\n",
              "</div>"
            ],
            "text/plain": [
              "   Id  Expected\n",
              "0   0      1000\n",
              "1   1      1000\n",
              "2   2      1000\n",
              "3   3      1000\n",
              "4   4      1000\n",
              "5   5      1000"
            ]
          },
          "metadata": {
            "tags": []
          },
          "execution_count": 18
        }
      ]
    },
    {
      "cell_type": "code",
      "metadata": {
        "colab": {
          "base_uri": "https://localhost:8080/"
        },
        "id": "XQZ6r6EVRyY2",
        "outputId": "69eb5ea6-c0a9-4783-cab8-a7e9fffbb942"
      },
      "source": [
        "submit['Expected'][0]"
      ],
      "execution_count": 19,
      "outputs": [
        {
          "output_type": "execute_result",
          "data": {
            "text/plain": [
              "1000"
            ]
          },
          "metadata": {
            "tags": []
          },
          "execution_count": 19
        }
      ]
    },
    {
      "cell_type": "code",
      "metadata": {
        "id": "fa4lVjTOR19o"
      },
      "source": [
        "for i in range(len(prediction)):\n",
        "    submit['Expected'][i] = prediction[i].item()"
      ],
      "execution_count": 20,
      "outputs": []
    },
    {
      "cell_type": "code",
      "metadata": {
        "colab": {
          "base_uri": "https://localhost:8080/",
          "height": 235
        },
        "id": "K-kpp91FR_Cq",
        "outputId": "440215aa-7e28-407b-cf6c-40d86ee1eda5"
      },
      "source": [
        "submit"
      ],
      "execution_count": 21,
      "outputs": [
        {
          "output_type": "execute_result",
          "data": {
            "text/html": [
              "<div>\n",
              "<style scoped>\n",
              "    .dataframe tbody tr th:only-of-type {\n",
              "        vertical-align: middle;\n",
              "    }\n",
              "\n",
              "    .dataframe tbody tr th {\n",
              "        vertical-align: top;\n",
              "    }\n",
              "\n",
              "    .dataframe thead th {\n",
              "        text-align: right;\n",
              "    }\n",
              "</style>\n",
              "<table border=\"1\" class=\"dataframe\">\n",
              "  <thead>\n",
              "    <tr style=\"text-align: right;\">\n",
              "      <th></th>\n",
              "      <th>Id</th>\n",
              "      <th>Expected</th>\n",
              "    </tr>\n",
              "  </thead>\n",
              "  <tbody>\n",
              "    <tr>\n",
              "      <th>0</th>\n",
              "      <td>0</td>\n",
              "      <td>3340</td>\n",
              "    </tr>\n",
              "    <tr>\n",
              "      <th>1</th>\n",
              "      <td>1</td>\n",
              "      <td>3182</td>\n",
              "    </tr>\n",
              "    <tr>\n",
              "      <th>2</th>\n",
              "      <td>2</td>\n",
              "      <td>3918</td>\n",
              "    </tr>\n",
              "    <tr>\n",
              "      <th>3</th>\n",
              "      <td>3</td>\n",
              "      <td>3282</td>\n",
              "    </tr>\n",
              "    <tr>\n",
              "      <th>4</th>\n",
              "      <td>4</td>\n",
              "      <td>3295</td>\n",
              "    </tr>\n",
              "    <tr>\n",
              "      <th>5</th>\n",
              "      <td>5</td>\n",
              "      <td>3331</td>\n",
              "    </tr>\n",
              "  </tbody>\n",
              "</table>\n",
              "</div>"
            ],
            "text/plain": [
              "   Id  Expected\n",
              "0   0      3340\n",
              "1   1      3182\n",
              "2   2      3918\n",
              "3   3      3282\n",
              "4   4      3295\n",
              "5   5      3331"
            ]
          },
          "metadata": {
            "tags": []
          },
          "execution_count": 21
        }
      ]
    },
    {
      "cell_type": "code",
      "metadata": {
        "id": "QvoV1cBRR_Xg"
      },
      "source": [
        "submit.to_csv('submit.csv',mode='w', index=False)"
      ],
      "execution_count": 22,
      "outputs": []
    },
    {
      "cell_type": "code",
      "metadata": {
        "colab": {
          "base_uri": "https://localhost:8080/"
        },
        "id": "sIkKtNcFSGX2",
        "outputId": "687f4c8e-e5a1-4fab-8301-d4c95af43315"
      },
      "source": [
        "! kaggle competitions submit -c regression-cabbage-price -f submit.csv -m \"first_submit\""
      ],
      "execution_count": 23,
      "outputs": [
        {
          "output_type": "stream",
          "text": [
            "Warning: Looks like you're using an outdated API Version, please consider updating (server 1.5.12 / client 1.5.6)\n",
            "100% 54.0/54.0 [00:02<00:00, 24.3B/s]\n",
            "Successfully submitted to Regression : Cabbage price"
          ],
          "name": "stdout"
        }
      ]
    },
    {
      "cell_type": "code",
      "metadata": {
        "id": "HOV9xVbRSPJk"
      },
      "source": [
        ""
      ],
      "execution_count": null,
      "outputs": []
    }
  ]
}